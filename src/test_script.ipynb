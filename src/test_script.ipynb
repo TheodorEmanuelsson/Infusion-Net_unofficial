{
 "cells": [
  {
   "cell_type": "code",
   "execution_count": 1,
   "metadata": {},
   "outputs": [
    {
     "name": "stdout",
     "output_type": "stream",
     "text": [
      "Number of FLIR RGB images:  10319\n",
      "Number of FLIR Thermal images:  10742\n",
      "Number of LLVIP RGB images:  12025\n",
      "Number of LLVIP Thermal images:  12025\n",
      "Loading annotations into memory...\n",
      "Done (t=0.20s)\n",
      "Creating index...\n",
      "index created!\n"
     ]
    }
   ],
   "source": [
    "# Base imports\n",
    "import sys\n",
    "import os\n",
    "import torch\n",
    "import torch.nn as nn\n",
    "import numpy as np\n",
    "import matplotlib.pyplot as plt\n",
    "import matplotlib.gridspec as gridspec\n",
    "from pycocotools.coco import COCO\n",
    "from PIL import Image\n",
    "from torchvision import transforms\n",
    "# Custom imports\n",
    "from model import InfusionNet\n",
    "import tools.dct as dct_tools\n",
    "# Yolo imports\n",
    "sys.path.append('./yolov7/')\n",
    "import yolov7.models.yolo as yolov7\n",
    "\n",
    "flir_path = '../data/FLIR/'\n",
    "llvip_path = '../data/LLVIP/'\n",
    "\n",
    "flir_rgbimages = os.listdir(flir_path + 'images_rgb_train/data')\n",
    "flir_thermalimages = os.listdir(flir_path + 'images_thermal_train/data')\n",
    "llvip_rgbimages = os.listdir(llvip_path + 'visible/train')\n",
    "\n",
    "llvip_thermalimages = os.listdir(llvip_path + 'infrared/train')\n",
    "\n",
    "print('Number of FLIR RGB images: ', len(flir_rgbimages))\n",
    "print('Number of FLIR Thermal images: ', len(flir_thermalimages))\n",
    "\n",
    "print('Number of LLVIP RGB images: ', len(llvip_rgbimages))\n",
    "print('Number of LLVIP Thermal images: ', len(llvip_thermalimages))\n",
    "\n",
    "llvip = COCO(llvip_path + 'LLVIP.json') # load the dataset\n",
    "llvip_ids = llvip.getImgIds()\n",
    "img_obj = llvip.loadImgs([llvip_ids[1]])\n",
    "anns_obj = llvip.loadAnns(llvip.getAnnIds(imgIds=[llvip_ids[1]]))\n",
    "\n",
    "\n",
    "rgb_img = Image.open(llvip_path + 'visible/train/' + img_obj[0]['file_name'])\n",
    "ir_img = Image.open(llvip_path + 'infrared/train/' + img_obj[0]['file_name'])\n",
    "\n",
    "def plot_bbox(img, anns):\n",
    "    # draw bounding boxes\n",
    "    for ann in anns:\n",
    "        x, y, w, h = ann['bbox']\n",
    "        plt.plot([x, x+w, x+w, x, x], [y, y, y+h, y+h, y], linewidth=2, color='r')\n",
    "\n",
    "plt.figure(figsize=(20,20))\n",
    "plt.subplot(1,2,1)\n",
    "plt.imshow(rgb_img)\n",
    "# draw bounding boxes\n",
    "plot_bbox(rgb_img, anns_obj)\n",
    "plt.subplot(1,2,2)\n",
    "plt.imshow(ir_img)\n",
    "# draw bounding boxes\n",
    "plot_bbox(ir_img, anns_obj)\n",
    "plt.show()"
   ]
  },
  {
   "cell_type": "code",
   "execution_count": 2,
   "metadata": {},
   "outputs": [
    {
     "name": "stderr",
     "output_type": "stream",
     "text": [
      "/usr/local/lib/python3.8/dist-packages/torch/functional.py:504: UserWarning: torch.meshgrid: in an upcoming release, it will be required to pass the indexing argument. (Triggered internally at ../aten/src/ATen/native/TensorShape.cpp:3190.)\n",
      "  return _VF.meshgrid(tensors, **kwargs)  # type: ignore[attr-defined]\n",
      "Clipping input data to the valid range for imshow with RGB data ([0..1] for floats or [0..255] for integers).\n",
      "Clipping input data to the valid range for imshow with RGB data ([0..1] for floats or [0..255] for integers).\n",
      "Clipping input data to the valid range for imshow with RGB data ([0..1] for floats or [0..255] for integers).\n",
      "Clipping input data to the valid range for imshow with RGB data ([0..1] for floats or [0..255] for integers).\n"
     ]
    }
   ],
   "source": [
    "transforms = transforms.Compose([transforms.ToTensor()])\n",
    "\n",
    "def plot_dct(input, masked_freq, output):\n",
    "    gs = gridspec.GridSpec(1, 3)\n",
    "    plt.figure(figsize=(20,20))\n",
    "    plt.subplot(gs[0,0])\n",
    "    input = input.squeeze(0).permute(1,2,0)\n",
    "    plt.imshow(input)\n",
    "    plt.subplot(gs[0,1])\n",
    "    masked_freq = masked_freq.squeeze(0).permute(1,2,0)\n",
    "    plt.imshow(masked_freq)\n",
    "    plt.subplot(gs[0,2])\n",
    "    output = output.squeeze(0).permute(1,2,0)\n",
    "    plt.imshow(output)\n",
    "\n",
    "rgb_tensor = transforms(rgb_img).unsqueeze(0)\n",
    "dct_tensor = dct_tools.dct_2d(rgb_tensor, norm='ortho')\n",
    "masked_tensor = dct_tools.mask_image(dct_tensor, 0.1)\n",
    "masked_rgb = dct_tools.idct_2d(masked_tensor, norm='ortho')\n",
    "\n",
    "plot_dct(rgb_tensor, masked_tensor, masked_rgb)\n",
    "plot_bbox(rgb_tensor, anns_obj)\n",
    "\n",
    "ir_tensor = transforms(ir_img).unsqueeze(0)\n",
    "\n",
    "dct_tensor = dct_tools.dct_2d(ir_tensor, norm='ortho')\n",
    "\n",
    "masked_tensor = dct_tools.mask_image(dct_tensor, 0.05)\n",
    "\n",
    "masked_ir = dct_tools.idct_2d(masked_tensor, norm='ortho')\n",
    "\n",
    "plot_dct(ir_tensor, masked_tensor, masked_ir)\n",
    "plot_bbox(ir_tensor, anns_obj)"
   ]
  },
  {
   "cell_type": "code",
   "execution_count": 3,
   "metadata": {},
   "outputs": [
    {
     "name": "stdout",
     "output_type": "stream",
     "text": [
      "torch.Size([2, 192, 256, 320])\n"
     ]
    }
   ],
   "source": [
    "from model import InfusionNet\n",
    "\n",
    "model = InfusionNet(num_features=64, reduction=32, tau = 0.2)\n",
    "\n",
    "input_tensors = torch.cat((torch.cat((rgb_tensor, ir_tensor), dim=1),torch.cat((rgb_tensor, ir_tensor), dim=1)), dim=0)\n",
    "\n",
    "output_tensor = model(input_tensors)\n",
    "\n",
    "print(output_tensor.shape)"
   ]
  },
  {
   "cell_type": "code",
   "execution_count": 8,
   "metadata": {},
   "outputs": [],
   "source": [
    "class InfusionDetection(nn.Module):\n",
    "    def __init__(self, num_features=64, reduction=32, tau = 0.2):\n",
    "        super(InfusionDetection, self).__init__()\n",
    "        self.infusion = InfusionNet(num_features, reduction, tau)\n",
    "        self.yolov7 = yolov7.Model('yolov7_LLVIP.yaml', ch=192, nc=10)\n",
    "        \n",
    "    def forward(self, x):\n",
    "        x = self.infusion(x)\n",
    "        x = self.yolov7(x)\n",
    "        return x\n",
    "\n",
    "model = InfusionDetection(num_features=64, reduction=32, tau = 0.2)\n",
    "\n",
    "input_tensors = torch.cat((torch.cat((rgb_tensor, ir_tensor), dim=1),torch.cat((rgb_tensor, ir_tensor), dim=1)), dim=0)\n",
    "\n",
    "output_tensor = model(input_tensors)"
   ]
  },
  {
   "cell_type": "code",
   "execution_count": 9,
   "metadata": {},
   "outputs": [
    {
     "data": {
      "text/plain": [
       "3"
      ]
     },
     "execution_count": 9,
     "metadata": {},
     "output_type": "execute_result"
    }
   ],
   "source": [
    "len(output_tensor)"
   ]
  },
  {
   "cell_type": "code",
   "execution_count": 12,
   "metadata": {},
   "outputs": [
    {
     "name": "stdout",
     "output_type": "stream",
     "text": [
      "{'nc': 1, 'depth_multiple': 1.0, 'width_multiple': 1.0, 'anchors': [[12, 16, 19, 36, 40, 28], [36, 75, 76, 55, 72, 146], [142, 110, 192, 243, 459, 401]], 'backbone': [[-1, 1, 'Conv', [32, 3, 1]], [-1, 1, 'Conv', [64, 3, 2]], [-1, 1, 'Conv', [64, 3, 1]], [-1, 1, 'Conv', [128, 3, 2]], [-1, 1, 'Conv', [64, 1, 1]], [-2, 1, 'Conv', [64, 1, 1]], [-1, 1, 'Conv', [64, 3, 1]], [-1, 1, 'Conv', [64, 3, 1]], [-1, 1, 'Conv', [64, 3, 1]], [-1, 1, 'Conv', [64, 3, 1]], [[-1, -3, -5, -6], 1, 'Concat', [1]], [-1, 1, 'Conv', [256, 1, 1]], [-1, 1, 'MP', []], [-1, 1, 'Conv', [128, 1, 1]], [-3, 1, 'Conv', [128, 1, 1]], [-1, 1, 'Conv', [128, 3, 2]], [[-1, -3], 1, 'Concat', [1]], [-1, 1, 'Conv', [128, 1, 1]], [-2, 1, 'Conv', [128, 1, 1]], [-1, 1, 'Conv', [128, 3, 1]], [-1, 1, 'Conv', [128, 3, 1]], [-1, 1, 'Conv', [128, 3, 1]], [-1, 1, 'Conv', [128, 3, 1]], [[-1, -3, -5, -6], 1, 'Concat', [1]], [-1, 1, 'Conv', [512, 1, 1]], [-1, 1, 'MP', []], [-1, 1, 'Conv', [256, 1, 1]], [-3, 1, 'Conv', [256, 1, 1]], [-1, 1, 'Conv', [256, 3, 2]], [[-1, -3], 1, 'Concat', [1]], [-1, 1, 'Conv', [256, 1, 1]], [-2, 1, 'Conv', [256, 1, 1]], [-1, 1, 'Conv', [256, 3, 1]], [-1, 1, 'Conv', [256, 3, 1]], [-1, 1, 'Conv', [256, 3, 1]], [-1, 1, 'Conv', [256, 3, 1]], [[-1, -3, -5, -6], 1, 'Concat', [1]], [-1, 1, 'Conv', [1024, 1, 1]], [-1, 1, 'MP', []], [-1, 1, 'Conv', [512, 1, 1]], [-3, 1, 'Conv', [512, 1, 1]], [-1, 1, 'Conv', [512, 3, 2]], [[-1, -3], 1, 'Concat', [1]], [-1, 1, 'Conv', [256, 1, 1]], [-2, 1, 'Conv', [256, 1, 1]], [-1, 1, 'Conv', [256, 3, 1]], [-1, 1, 'Conv', [256, 3, 1]], [-1, 1, 'Conv', [256, 3, 1]], [-1, 1, 'Conv', [256, 3, 1]], [[-1, -3, -5, -6], 1, 'Concat', [1]], [-1, 1, 'Conv', [1024, 1, 1]]], 'head': [[-1, 1, 'SPPCSPC', [512]], [-1, 1, 'Conv', [256, 1, 1]], [-1, 1, 'nn.Upsample', ['None', 2, 'nearest']], [37, 1, 'Conv', [256, 1, 1]], [[-1, -2], 1, 'Concat', [1]], [-1, 1, 'Conv', [256, 1, 1]], [-2, 1, 'Conv', [256, 1, 1]], [-1, 1, 'Conv', [128, 3, 1]], [-1, 1, 'Conv', [128, 3, 1]], [-1, 1, 'Conv', [128, 3, 1]], [-1, 1, 'Conv', [128, 3, 1]], [[-1, -2, -3, -4, -5, -6], 1, 'Concat', [1]], [-1, 1, 'Conv', [256, 1, 1]], [-1, 1, 'Conv', [128, 1, 1]], [-1, 1, 'nn.Upsample', ['None', 2, 'nearest']], [24, 1, 'Conv', [128, 1, 1]], [[-1, -2], 1, 'Concat', [1]], [-1, 1, 'Conv', [128, 1, 1]], [-2, 1, 'Conv', [128, 1, 1]], [-1, 1, 'Conv', [64, 3, 1]], [-1, 1, 'Conv', [64, 3, 1]], [-1, 1, 'Conv', [64, 3, 1]], [-1, 1, 'Conv', [64, 3, 1]], [[-1, -2, -3, -4, -5, -6], 1, 'Concat', [1]], [-1, 1, 'Conv', [128, 1, 1]], [-1, 1, 'MP', []], [-1, 1, 'Conv', [128, 1, 1]], [-3, 1, 'Conv', [128, 1, 1]], [-1, 1, 'Conv', [128, 3, 2]], [[-1, -3, 63], 1, 'Concat', [1]], [-1, 1, 'Conv', [256, 1, 1]], [-2, 1, 'Conv', [256, 1, 1]], [-1, 1, 'Conv', [128, 3, 1]], [-1, 1, 'Conv', [128, 3, 1]], [-1, 1, 'Conv', [128, 3, 1]], [-1, 1, 'Conv', [128, 3, 1]], [[-1, -2, -3, -4, -5, -6], 1, 'Concat', [1]], [-1, 1, 'Conv', [256, 1, 1]], [-1, 1, 'MP', []], [-1, 1, 'Conv', [256, 1, 1]], [-3, 1, 'Conv', [256, 1, 1]], [-1, 1, 'Conv', [256, 3, 2]], [[-1, -3, 51], 1, 'Concat', [1]], [-1, 1, 'Conv', [512, 1, 1]], [-2, 1, 'Conv', [512, 1, 1]], [-1, 1, 'Conv', [256, 3, 1]], [-1, 1, 'Conv', [256, 3, 1]], [-1, 1, 'Conv', [256, 3, 1]], [-1, 1, 'Conv', [256, 3, 1]], [[-1, -2, -3, -4, -5, -6], 1, 'Concat', [1]], [-1, 1, 'Conv', [512, 1, 1]], [75, 1, 'RepConv', [256, 3, 1]], [88, 1, 'RepConv', [512, 3, 1]], [101, 1, 'RepConv', [1024, 3, 1]], [[102, 103, 104], 1, 'IDetect', ['nc', 'anchors']]]}\n"
     ]
    }
   ],
   "source": [
    "import yaml\n",
    "from yaml.loader import SafeLoader\n",
    "\n",
    "with open('yolov7_LLVIP.yaml') as f:\n",
    "    data = yaml.load(f, Loader=SafeLoader)\n",
    "    print(data)"
   ]
  },
  {
   "cell_type": "code",
   "execution_count": 13,
   "metadata": {},
   "outputs": [
    {
     "data": {
      "text/plain": [
       "[[-1, 1, 'Conv', [32, 3, 1]],\n",
       " [-1, 1, 'Conv', [64, 3, 2]],\n",
       " [-1, 1, 'Conv', [64, 3, 1]],\n",
       " [-1, 1, 'Conv', [128, 3, 2]],\n",
       " [-1, 1, 'Conv', [64, 1, 1]],\n",
       " [-2, 1, 'Conv', [64, 1, 1]],\n",
       " [-1, 1, 'Conv', [64, 3, 1]],\n",
       " [-1, 1, 'Conv', [64, 3, 1]],\n",
       " [-1, 1, 'Conv', [64, 3, 1]],\n",
       " [-1, 1, 'Conv', [64, 3, 1]],\n",
       " [[-1, -3, -5, -6], 1, 'Concat', [1]],\n",
       " [-1, 1, 'Conv', [256, 1, 1]],\n",
       " [-1, 1, 'MP', []],\n",
       " [-1, 1, 'Conv', [128, 1, 1]],\n",
       " [-3, 1, 'Conv', [128, 1, 1]],\n",
       " [-1, 1, 'Conv', [128, 3, 2]],\n",
       " [[-1, -3], 1, 'Concat', [1]],\n",
       " [-1, 1, 'Conv', [128, 1, 1]],\n",
       " [-2, 1, 'Conv', [128, 1, 1]],\n",
       " [-1, 1, 'Conv', [128, 3, 1]],\n",
       " [-1, 1, 'Conv', [128, 3, 1]],\n",
       " [-1, 1, 'Conv', [128, 3, 1]],\n",
       " [-1, 1, 'Conv', [128, 3, 1]],\n",
       " [[-1, -3, -5, -6], 1, 'Concat', [1]],\n",
       " [-1, 1, 'Conv', [512, 1, 1]],\n",
       " [-1, 1, 'MP', []],\n",
       " [-1, 1, 'Conv', [256, 1, 1]],\n",
       " [-3, 1, 'Conv', [256, 1, 1]],\n",
       " [-1, 1, 'Conv', [256, 3, 2]],\n",
       " [[-1, -3], 1, 'Concat', [1]],\n",
       " [-1, 1, 'Conv', [256, 1, 1]],\n",
       " [-2, 1, 'Conv', [256, 1, 1]],\n",
       " [-1, 1, 'Conv', [256, 3, 1]],\n",
       " [-1, 1, 'Conv', [256, 3, 1]],\n",
       " [-1, 1, 'Conv', [256, 3, 1]],\n",
       " [-1, 1, 'Conv', [256, 3, 1]],\n",
       " [[-1, -3, -5, -6], 1, 'Concat', [1]],\n",
       " [-1, 1, 'Conv', [1024, 1, 1]],\n",
       " [-1, 1, 'MP', []],\n",
       " [-1, 1, 'Conv', [512, 1, 1]],\n",
       " [-3, 1, 'Conv', [512, 1, 1]],\n",
       " [-1, 1, 'Conv', [512, 3, 2]],\n",
       " [[-1, -3], 1, 'Concat', [1]],\n",
       " [-1, 1, 'Conv', [256, 1, 1]],\n",
       " [-2, 1, 'Conv', [256, 1, 1]],\n",
       " [-1, 1, 'Conv', [256, 3, 1]],\n",
       " [-1, 1, 'Conv', [256, 3, 1]],\n",
       " [-1, 1, 'Conv', [256, 3, 1]],\n",
       " [-1, 1, 'Conv', [256, 3, 1]],\n",
       " [[-1, -3, -5, -6], 1, 'Concat', [1]],\n",
       " [-1, 1, 'Conv', [1024, 1, 1]]]"
      ]
     },
     "execution_count": 13,
     "metadata": {},
     "output_type": "execute_result"
    }
   ],
   "source": [
    "data['backbone']"
   ]
  }
 ],
 "metadata": {
  "kernelspec": {
   "display_name": "Python 3 (ipykernel)",
   "language": "python",
   "name": "python3"
  },
  "language_info": {
   "codemirror_mode": {
    "name": "ipython",
    "version": 3
   },
   "file_extension": ".py",
   "mimetype": "text/x-python",
   "name": "python",
   "nbconvert_exporter": "python",
   "pygments_lexer": "ipython3",
   "version": "3.8.10"
  },
  "orig_nbformat": 4,
  "vscode": {
   "interpreter": {
    "hash": "ce05b5a9bede28b862a1c4f446dcff6069cc570518307c655629599948881620"
   }
  }
 },
 "nbformat": 4,
 "nbformat_minor": 2
}
